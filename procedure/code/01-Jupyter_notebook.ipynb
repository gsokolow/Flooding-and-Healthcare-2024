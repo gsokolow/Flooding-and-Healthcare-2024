{
 "cells": [
  {
   "cell_type": "markdown",
   "metadata": {
    "id": "7gUZzqUXf91d"
   },
   "source": [
    "# Analysis\n",
    "\n",
    "Template for Jupyter notebooks running Python."
   ]
  },
  {
   "cell_type": "markdown",
   "metadata": {
    "id": "ynQbJHvcVm55"
   },
   "source": [
    "Version 0.1.0 \\| First Created July 12, 2023 \\| Updated August 01, 2023\n",
    "\n",
    "## Jupyter Notebook\n",
    "\n",
    "This is an Jupyter Notebook document. For more details on using a Jupyter Notebook see <https://docs.jupyter.org/en/latest/>.\n",
    "\n",
    "### Setting up a computational environment. \n",
    "Please see proceedure/environment/readme.md for detailed instructions for how to replicate the computational environment used in this study.\n",
    "\n"
   ]
  },
  {
   "cell_type": "markdown",
   "metadata": {},
   "source": [
    "# Title of Study\n",
    "\n",
    "### Authors\n",
    "\n",
    "- First Name Last Name\\*, email address, @githubname, ORCID link, affiliated institution(s)\n",
    "- First Name Last Name, email address, @githubname, ORCID link, affiliated institution(s)\n",
    "\n",
    "\\* Corresponding author and creator\n",
    "\n"
   ]
  },
  {
   "cell_type": "markdown",
   "metadata": {},
   "source": [
    "### Abstract\n",
    "\n",
    "Write a brief abstract about your research project.\n",
    "\n",
    "If the project is a reproduction or replication study, include a declaration of the study type with a full reference to the original study.\n",
    "For example:\n",
    "\n",
    "This study is a *replication* of:\n",
    "\n",
    "> citation to prior study\n",
    "\n",
    "A graphical abstract of the study could also be included as an image here.\n",
    "\n"
   ]
  },
  {
   "cell_type": "markdown",
   "metadata": {},
   "source": [
    "### Study metadata\n",
    "\n",
    "- `Key words`: Comma-separated list of keywords (tags) for searchability. Geographers often use one or two keywords each for: theory, geographic context, and methods.\n",
    "- `Subject`: select from the [BePress Taxonomy](http://digitalcommons.bepress.com/cgi/viewcontent.cgi?article=1008&context=reference)\n",
    "- `Date created`: date when project was started\n",
    "- `Date modified`: date of most recent revision\n",
    "- `Spatial Coverage`: Specify the geographic extent of your study. This may be a place name and link to a feature in a gazetteer like GeoNames or OpenStreetMap, or a well known text (WKT) representation of a bounding box.\n",
    "- `Spatial Resolution`: Specify the spatial resolution as a scale factor, description of the level of detail of each unit of observation (including administrative level of administrative areas), and/or or distance of a raster GRID size\n",
    "- `Spatial Reference System`: Specify the geographic or projected coordinate system for the study, e.g. EPSG:4326\n",
    "- `Temporal Coverage`: Specify the temporal extent of your study---i.e. the range of time represented by the data observations.\n",
    "- `Temporal Resolution`: Specify the temporal resolution of your study---i.e. the duration of time for which each observation represents or the revisit period for repeated observations\n",
    "- `Funding Name`: name of funding for the project\n",
    "- `Funding Title`: title of project grant\n",
    "- `Award info URI`: web address for award information\n",
    "- `Award number`: award number\n",
    "\n",
    "#### Original study spatio-temporal metadata\n",
    "\n",
    "- `Spatial Coverage`: extent of original study\n",
    "- `Spatial Resolution`: resolution of original study\n",
    "- `Spatial Reference System`: spatial reference system of original study\n",
    "- `Temporal Coverage`: temporal extent of original study\n",
    "- `Temporal Resolution`: temporal resolution of original study\n",
    "\n"
   ]
  },
  {
   "cell_type": "markdown",
   "metadata": {},
   "source": [
    "## Study design\n",
    "\n",
    "Describe how the study relates to prior literature, e.g. is it a **original study**, **meta-analysis study**, **reproduction study**, **reanalysis study**, or **replication study**?\n",
    "\n",
    "Also describe the original study archetype, e.g. is it **observational**, **experimental**, **quasi-experimental**, or **exploratory**?\n",
    "\n",
    "Enumerate specific **hypotheses** to be tested or **research questions** to be investigated here, and specify the type of method, statistical test or model to be used on the hypothesis or question.\n"
   ]
  },
  {
   "cell_type": "markdown",
   "metadata": {},
   "source": [
    "## Proceedure"
   ]
  },
  {
   "cell_type": "code",
   "execution_count": 4,
   "metadata": {
    "tags": []
   },
   "outputs": [],
   "source": [
    "# Import the necessary packages\n",
    "import geopandas as gpd\n",
    "import pandas as pd\n",
    "import geodatasets as gds\n",
    "import yaml\n",
    "import os\n",
    "import numpy as np\n",
    "import osmnx as ox\n"
   ]
  },
  {
   "cell_type": "code",
   "execution_count": 29,
   "metadata": {},
   "outputs": [
    {
     "name": "stdout",
     "output_type": "stream",
     "text": [
      "- openpyxl\n",
      "- pyyaml\n",
      "\n"
     ]
    }
   ],
   "source": [
    "# Write the YAML file with package dependencies\n",
    "##create if statement set to false so that this wont always run ***!\n",
    "## code adapted from python land https://python.land/data-processing/python-yaml#What_is_YAML\n",
    "requirements = \"\"\"\n",
    "- openpyxl\n",
    "- pyyaml\n",
    "\"\"\"\n",
    "req = yaml.safe_load(requirements)\n",
    "with open ('req.yaml', 'w') as file:\n",
    "    yaml.dump(req, file)\n",
    "\n",
    "print(open('req.yaml').read())"
   ]
  },
  {
   "cell_type": "code",
   "execution_count": 30,
   "metadata": {},
   "outputs": [],
   "source": [
    "# move req file to envs folder \n",
    "os.replace(\"req.yaml\", \"../environment/req.yaml\") "
   ]
  },
  {
   "cell_type": "code",
   "execution_count": 31,
   "metadata": {},
   "outputs": [
    {
     "name": "stdout",
     "output_type": "stream",
     "text": [
      "C:\\Users\\gsokolow\\Documents\\GitHub\\Flooding-and-Healthcare-2024\\procedure\\code\\req.yaml\n"
     ]
    }
   ],
   "source": [
    "path = os.path.abspath('req.yaml')\n",
    "print(path)"
   ]
  },
  {
   "cell_type": "code",
   "execution_count": 2,
   "metadata": {},
   "outputs": [],
   "source": [
    "# Import 2018 Census Data for Statistical Area 1s\n",
    "# Select only the columns we're interested in\n",
    "sa1 = pd.read_csv(\"../../data/derived/public/Individual_part1_totalNZ-wide_format_updated_16-7-20_adjusted_labels.csv\",\n",
    "                     usecols = ['Area_code_and_description', #uniqueid for sa1 \n",
    "                                'Census_2018_usually_resident_population_count', #total pop\n",
    "                                'Census_2018_Sex_1_Male_CURP', 'Census_2018_Sex_2_Female_CURP', 'Census_2018_Sex_Total_CURP', #sex\n",
    "                                'Census_2018_median_age_CURP', 'Census_2018_Age_broad_groups_1_Under_15_years_CURP', 'Census_2018_Age_broad_groups_2_15_to_29_years_CURP', \n",
    "                                'Census_2018_Age_broad_groups_3_30_to_64_years_CURP', 'Census_2018_Age_broad_groups_4_65_years_and_over_CURP', \n",
    "                                'Census_2018_Age_broad_groups_Total_CURP', #age\n",
    "                                'Census_2018_Ethnicity_grouped_total_responses_level_1_1_European_CURP',\n",
    "                                'Census_2018_Ethnicity_grouped_total_responses_level_1_3_Pacific_Peoples_CURP', 'Census_2018_Ethnicity_grouped_total_responses_level_1_2_Maori_CURP', 'Census_2018_Ethnicity_grouped_total_responses_level_1_4_Asian_CURP',\n",
    "                                'Census_2018_Ethnicity_grouped_total_responses_level_1_5_Middle_Eastern_Latin_American_African_CURP', 'Census_2018_Ethnicity_grouped_total_responses_level_1_6_Other_Ethnicity_CURP',\n",
    "                                'Census_2018_Ethnicity_grouped_total_responses_level_2_61_New_Zealander_CURP', 'Census_2018_Ethnicity_grouped_total_responses_level_2_69_Other_Ethnicity_nec_CURP',\n",
    "                                'Census_2018_Ethnicity_grouped_total_responses_Total_stated_CURP', 'Census_2018_Ethnicity_grouped_total_responses_level_1_9_Not_Elsewhere_Included_CURP',\n",
    "                                'Census_2018_Ethnicity_grouped_total_responses_Total_CURP', #ethnicity,\n",
    "                                'Census_2018_Maori_descent_01_Maori_descent_CURP', 'Census_2018_Maori_descent_02_No_Maori_descent_CURP', 'Census_2018_Maori_descent_04_Dont_know_CURP',\n",
    "                                'Census_2018_Maori_descent_Total_stated_CURP', 'Census_2018_Maori_descent_99_Not_elsewhere_included_CURP', 'Census_2018_Maori_descent_Total_CURP'\n",
    "                               ],\n",
    "                 na_values = 'C') #replaces 'C' for confidential with NaN. \n"
   ]
  },
  {
   "cell_type": "code",
   "execution_count": 3,
   "metadata": {},
   "outputs": [
    {
     "data": {
      "text/html": [
       "<div>\n",
       "<style scoped>\n",
       "    .dataframe tbody tr th:only-of-type {\n",
       "        vertical-align: middle;\n",
       "    }\n",
       "\n",
       "    .dataframe tbody tr th {\n",
       "        vertical-align: top;\n",
       "    }\n",
       "\n",
       "    .dataframe thead th {\n",
       "        text-align: right;\n",
       "    }\n",
       "</style>\n",
       "<table border=\"1\" class=\"dataframe\">\n",
       "  <thead>\n",
       "    <tr style=\"text-align: right;\">\n",
       "      <th></th>\n",
       "      <th>Area_code_and_description</th>\n",
       "      <th>Census_2018_usually_resident_population_count</th>\n",
       "      <th>Census_2018_Sex_1_Male_CURP</th>\n",
       "      <th>Census_2018_Sex_2_Female_CURP</th>\n",
       "      <th>Census_2018_Sex_Total_CURP</th>\n",
       "      <th>Census_2018_median_age_CURP</th>\n",
       "      <th>Census_2018_Age_broad_groups_1_Under_15_years_CURP</th>\n",
       "      <th>Census_2018_Age_broad_groups_2_15_to_29_years_CURP</th>\n",
       "      <th>Census_2018_Age_broad_groups_3_30_to_64_years_CURP</th>\n",
       "      <th>Census_2018_Age_broad_groups_4_65_years_and_over_CURP</th>\n",
       "      <th>...</th>\n",
       "      <th>Census_2018_Ethnicity_grouped_total_responses_level_2_69_Other_Ethnicity_nec_CURP</th>\n",
       "      <th>Census_2018_Ethnicity_grouped_total_responses_Total_stated_CURP</th>\n",
       "      <th>Census_2018_Ethnicity_grouped_total_responses_level_1_9_Not_Elsewhere_Included_CURP</th>\n",
       "      <th>Census_2018_Ethnicity_grouped_total_responses_Total_CURP</th>\n",
       "      <th>Census_2018_Maori_descent_01_Maori_descent_CURP</th>\n",
       "      <th>Census_2018_Maori_descent_02_No_Maori_descent_CURP</th>\n",
       "      <th>Census_2018_Maori_descent_04_Dont_know_CURP</th>\n",
       "      <th>Census_2018_Maori_descent_Total_stated_CURP</th>\n",
       "      <th>Census_2018_Maori_descent_99_Not_elsewhere_included_CURP</th>\n",
       "      <th>Census_2018_Maori_descent_Total_CURP</th>\n",
       "    </tr>\n",
       "  </thead>\n",
       "  <tbody>\n",
       "    <tr>\n",
       "      <th>0</th>\n",
       "      <td>SA1 7000000</td>\n",
       "      <td>141</td>\n",
       "      <td>75.0</td>\n",
       "      <td>66.0</td>\n",
       "      <td>141</td>\n",
       "      <td>48.1</td>\n",
       "      <td>24.0</td>\n",
       "      <td>30.0</td>\n",
       "      <td>69.0</td>\n",
       "      <td>21.0</td>\n",
       "      <td>...</td>\n",
       "      <td>0.0</td>\n",
       "      <td>141.0</td>\n",
       "      <td>0.0</td>\n",
       "      <td>141</td>\n",
       "      <td>135.0</td>\n",
       "      <td>6.0</td>\n",
       "      <td>3.0</td>\n",
       "      <td>141.0</td>\n",
       "      <td>0.0</td>\n",
       "      <td>141</td>\n",
       "    </tr>\n",
       "    <tr>\n",
       "      <th>1</th>\n",
       "      <td>SA1 7000001</td>\n",
       "      <td>114</td>\n",
       "      <td>60.0</td>\n",
       "      <td>54.0</td>\n",
       "      <td>114</td>\n",
       "      <td>36.5</td>\n",
       "      <td>30.0</td>\n",
       "      <td>21.0</td>\n",
       "      <td>48.0</td>\n",
       "      <td>18.0</td>\n",
       "      <td>...</td>\n",
       "      <td>0.0</td>\n",
       "      <td>114.0</td>\n",
       "      <td>0.0</td>\n",
       "      <td>114</td>\n",
       "      <td>96.0</td>\n",
       "      <td>18.0</td>\n",
       "      <td>0.0</td>\n",
       "      <td>114.0</td>\n",
       "      <td>0.0</td>\n",
       "      <td>114</td>\n",
       "    </tr>\n",
       "    <tr>\n",
       "      <th>2</th>\n",
       "      <td>SA1 7000002</td>\n",
       "      <td>0</td>\n",
       "      <td>NaN</td>\n",
       "      <td>NaN</td>\n",
       "      <td>0</td>\n",
       "      <td>NaN</td>\n",
       "      <td>NaN</td>\n",
       "      <td>NaN</td>\n",
       "      <td>NaN</td>\n",
       "      <td>NaN</td>\n",
       "      <td>...</td>\n",
       "      <td>NaN</td>\n",
       "      <td>NaN</td>\n",
       "      <td>NaN</td>\n",
       "      <td>0</td>\n",
       "      <td>NaN</td>\n",
       "      <td>NaN</td>\n",
       "      <td>NaN</td>\n",
       "      <td>NaN</td>\n",
       "      <td>NaN</td>\n",
       "      <td>0</td>\n",
       "    </tr>\n",
       "    <tr>\n",
       "      <th>3</th>\n",
       "      <td>SA1 7000003</td>\n",
       "      <td>225</td>\n",
       "      <td>120.0</td>\n",
       "      <td>105.0</td>\n",
       "      <td>225</td>\n",
       "      <td>30.5</td>\n",
       "      <td>57.0</td>\n",
       "      <td>54.0</td>\n",
       "      <td>75.0</td>\n",
       "      <td>36.0</td>\n",
       "      <td>...</td>\n",
       "      <td>0.0</td>\n",
       "      <td>225.0</td>\n",
       "      <td>0.0</td>\n",
       "      <td>225</td>\n",
       "      <td>210.0</td>\n",
       "      <td>15.0</td>\n",
       "      <td>0.0</td>\n",
       "      <td>225.0</td>\n",
       "      <td>0.0</td>\n",
       "      <td>225</td>\n",
       "    </tr>\n",
       "    <tr>\n",
       "      <th>4</th>\n",
       "      <td>SA1 7000004</td>\n",
       "      <td>138</td>\n",
       "      <td>69.0</td>\n",
       "      <td>66.0</td>\n",
       "      <td>138</td>\n",
       "      <td>52.2</td>\n",
       "      <td>24.0</td>\n",
       "      <td>15.0</td>\n",
       "      <td>69.0</td>\n",
       "      <td>30.0</td>\n",
       "      <td>...</td>\n",
       "      <td>0.0</td>\n",
       "      <td>138.0</td>\n",
       "      <td>0.0</td>\n",
       "      <td>138</td>\n",
       "      <td>102.0</td>\n",
       "      <td>30.0</td>\n",
       "      <td>3.0</td>\n",
       "      <td>138.0</td>\n",
       "      <td>0.0</td>\n",
       "      <td>138</td>\n",
       "    </tr>\n",
       "  </tbody>\n",
       "</table>\n",
       "<p>5 rows × 28 columns</p>\n",
       "</div>"
      ],
      "text/plain": [
       "  Area_code_and_description  Census_2018_usually_resident_population_count  \\\n",
       "0               SA1 7000000                                            141   \n",
       "1               SA1 7000001                                            114   \n",
       "2               SA1 7000002                                              0   \n",
       "3               SA1 7000003                                            225   \n",
       "4               SA1 7000004                                            138   \n",
       "\n",
       "   Census_2018_Sex_1_Male_CURP  Census_2018_Sex_2_Female_CURP  \\\n",
       "0                         75.0                           66.0   \n",
       "1                         60.0                           54.0   \n",
       "2                          NaN                            NaN   \n",
       "3                        120.0                          105.0   \n",
       "4                         69.0                           66.0   \n",
       "\n",
       "   Census_2018_Sex_Total_CURP  Census_2018_median_age_CURP  \\\n",
       "0                         141                         48.1   \n",
       "1                         114                         36.5   \n",
       "2                           0                          NaN   \n",
       "3                         225                         30.5   \n",
       "4                         138                         52.2   \n",
       "\n",
       "   Census_2018_Age_broad_groups_1_Under_15_years_CURP  \\\n",
       "0                                               24.0    \n",
       "1                                               30.0    \n",
       "2                                                NaN    \n",
       "3                                               57.0    \n",
       "4                                               24.0    \n",
       "\n",
       "   Census_2018_Age_broad_groups_2_15_to_29_years_CURP  \\\n",
       "0                                               30.0    \n",
       "1                                               21.0    \n",
       "2                                                NaN    \n",
       "3                                               54.0    \n",
       "4                                               15.0    \n",
       "\n",
       "   Census_2018_Age_broad_groups_3_30_to_64_years_CURP  \\\n",
       "0                                               69.0    \n",
       "1                                               48.0    \n",
       "2                                                NaN    \n",
       "3                                               75.0    \n",
       "4                                               69.0    \n",
       "\n",
       "   Census_2018_Age_broad_groups_4_65_years_and_over_CURP  ...  \\\n",
       "0                                               21.0      ...   \n",
       "1                                               18.0      ...   \n",
       "2                                                NaN      ...   \n",
       "3                                               36.0      ...   \n",
       "4                                               30.0      ...   \n",
       "\n",
       "   Census_2018_Ethnicity_grouped_total_responses_level_2_69_Other_Ethnicity_nec_CURP  \\\n",
       "0                                                0.0                                   \n",
       "1                                                0.0                                   \n",
       "2                                                NaN                                   \n",
       "3                                                0.0                                   \n",
       "4                                                0.0                                   \n",
       "\n",
       "   Census_2018_Ethnicity_grouped_total_responses_Total_stated_CURP  \\\n",
       "0                                              141.0                 \n",
       "1                                              114.0                 \n",
       "2                                                NaN                 \n",
       "3                                              225.0                 \n",
       "4                                              138.0                 \n",
       "\n",
       "   Census_2018_Ethnicity_grouped_total_responses_level_1_9_Not_Elsewhere_Included_CURP  \\\n",
       "0                                                0.0                                     \n",
       "1                                                0.0                                     \n",
       "2                                                NaN                                     \n",
       "3                                                0.0                                     \n",
       "4                                                0.0                                     \n",
       "\n",
       "   Census_2018_Ethnicity_grouped_total_responses_Total_CURP  \\\n",
       "0                                                141          \n",
       "1                                                114          \n",
       "2                                                  0          \n",
       "3                                                225          \n",
       "4                                                138          \n",
       "\n",
       "   Census_2018_Maori_descent_01_Maori_descent_CURP  \\\n",
       "0                                            135.0   \n",
       "1                                             96.0   \n",
       "2                                              NaN   \n",
       "3                                            210.0   \n",
       "4                                            102.0   \n",
       "\n",
       "   Census_2018_Maori_descent_02_No_Maori_descent_CURP  \\\n",
       "0                                                6.0    \n",
       "1                                               18.0    \n",
       "2                                                NaN    \n",
       "3                                               15.0    \n",
       "4                                               30.0    \n",
       "\n",
       "   Census_2018_Maori_descent_04_Dont_know_CURP  \\\n",
       "0                                          3.0   \n",
       "1                                          0.0   \n",
       "2                                          NaN   \n",
       "3                                          0.0   \n",
       "4                                          3.0   \n",
       "\n",
       "   Census_2018_Maori_descent_Total_stated_CURP  \\\n",
       "0                                        141.0   \n",
       "1                                        114.0   \n",
       "2                                          NaN   \n",
       "3                                        225.0   \n",
       "4                                        138.0   \n",
       "\n",
       "   Census_2018_Maori_descent_99_Not_elsewhere_included_CURP  \\\n",
       "0                                                0.0          \n",
       "1                                                0.0          \n",
       "2                                                NaN          \n",
       "3                                                0.0          \n",
       "4                                                0.0          \n",
       "\n",
       "   Census_2018_Maori_descent_Total_CURP  \n",
       "0                                   141  \n",
       "1                                   114  \n",
       "2                                     0  \n",
       "3                                   225  \n",
       "4                                   138  \n",
       "\n",
       "[5 rows x 28 columns]"
      ]
     },
     "execution_count": 3,
     "metadata": {},
     "output_type": "execute_result"
    }
   ],
   "source": [
    "# Make sure the data loaded in correctly. It did! YAY!\n",
    "sa1.head()"
   ]
  },
  {
   "cell_type": "code",
   "execution_count": 63,
   "metadata": {},
   "outputs": [],
   "source": [
    "# Import the definitions of the variables we are interested in (created by author based on best available information)\n",
    "sa1_sel_defs = pd.read_csv(\"../../data/metadata/2018_Census_Statistical_Area1_Definitions_for_select_variables.csv\", index_col = 0, dtype = object)"
   ]
  },
  {
   "cell_type": "markdown",
   "metadata": {},
   "source": [
    "## Generate metadata\n",
    "Now, we're going to generate some information about the datasets we're using."
   ]
  },
  {
   "cell_type": "code",
   "execution_count": 4,
   "metadata": {},
   "outputs": [],
   "source": [
    "samin = pd.DataFrame(sa1.min(0).rename('minimum'))"
   ]
  },
  {
   "cell_type": "code",
   "execution_count": 5,
   "metadata": {},
   "outputs": [],
   "source": [
    "samax = pd.DataFrame(sa1.max(0).rename('maximum'))"
   ]
  },
  {
   "cell_type": "code",
   "execution_count": 6,
   "metadata": {},
   "outputs": [
    {
     "data": {
      "text/plain": [
       "Area_code_and_description                                                                               0\n",
       "Census_2018_usually_resident_population_count                                                           0\n",
       "Census_2018_Sex_1_Male_CURP                                                                           575\n",
       "Census_2018_Sex_2_Female_CURP                                                                         575\n",
       "Census_2018_Sex_Total_CURP                                                                              0\n",
       "Census_2018_median_age_CURP                                                                           592\n",
       "Census_2018_Age_broad_groups_1_Under_15_years_CURP                                                    620\n",
       "Census_2018_Age_broad_groups_2_15_to_29_years_CURP                                                    620\n",
       "Census_2018_Age_broad_groups_3_30_to_64_years_CURP                                                    614\n",
       "Census_2018_Age_broad_groups_4_65_years_and_over_CURP                                                 619\n",
       "Census_2018_Age_broad_groups_Total_CURP                                                                 0\n",
       "Census_2018_Ethnicity_grouped_total_responses_level_1_1_European_CURP                                 607\n",
       "Census_2018_Ethnicity_grouped_total_responses_level_1_2_Maori_CURP                                    663\n",
       "Census_2018_Ethnicity_grouped_total_responses_level_1_3_Pacific_Peoples_CURP                          665\n",
       "Census_2018_Ethnicity_grouped_total_responses_level_1_4_Asian_CURP                                    664\n",
       "Census_2018_Ethnicity_grouped_total_responses_level_1_5_Middle_Eastern_Latin_American_African_CURP    665\n",
       "Census_2018_Ethnicity_grouped_total_responses_level_1_6_Other_Ethnicity_CURP                          665\n",
       "Census_2018_Ethnicity_grouped_total_responses_level_2_61_New_Zealander_CURP                           732\n",
       "Census_2018_Ethnicity_grouped_total_responses_level_2_69_Other_Ethnicity_nec_CURP                     732\n",
       "Census_2018_Ethnicity_grouped_total_responses_Total_stated_CURP                                       592\n",
       "Census_2018_Ethnicity_grouped_total_responses_level_1_9_Not_Elsewhere_Included_CURP                   665\n",
       "Census_2018_Ethnicity_grouped_total_responses_Total_CURP                                                0\n",
       "Census_2018_Maori_descent_01_Maori_descent_CURP                                                       618\n",
       "Census_2018_Maori_descent_02_No_Maori_descent_CURP                                                    604\n",
       "Census_2018_Maori_descent_04_Dont_know_CURP                                                           620\n",
       "Census_2018_Maori_descent_Total_stated_CURP                                                           592\n",
       "Census_2018_Maori_descent_99_Not_elsewhere_included_CURP                                              620\n",
       "Census_2018_Maori_descent_Total_CURP                                                                    0\n",
       "dtype: int64"
      ]
     },
     "execution_count": 6,
     "metadata": {},
     "output_type": "execute_result"
    }
   ],
   "source": [
    "sa1.isna().sum()"
   ]
  },
  {
   "cell_type": "code",
   "execution_count": 7,
   "metadata": {},
   "outputs": [],
   "source": [
    "freqna = ((sa1.isna().sum())/len(sa1)).rename('NaN frequency')"
   ]
  },
  {
   "cell_type": "code",
   "execution_count": 13,
   "metadata": {},
   "outputs": [],
   "source": [
    "sa1_types = sa1.dtypes.rename('data type')"
   ]
  },
  {
   "cell_type": "code",
   "execution_count": 65,
   "metadata": {},
   "outputs": [],
   "source": [
    "#let's make a big table to display all the metadata\n",
    "meta_nums = pd.DataFrame(sa1_types)\n",
    "meta_nums = meta_nums.join(samin, rsuffix = 'min')\n",
    "meta_nums = meta_nums.join(samax, rsuffix = 'max')\n",
    "meta_nums = meta_nums.join(freqna, rsuffix = 'freq NA')\n",
    "meta_nums = meta_nums.join(sa1_sel_defs)\n"
   ]
  },
  {
   "cell_type": "code",
   "execution_count": 66,
   "metadata": {},
   "outputs": [
    {
     "data": {
      "text/html": [
       "<div>\n",
       "<style scoped>\n",
       "    .dataframe tbody tr th:only-of-type {\n",
       "        vertical-align: middle;\n",
       "    }\n",
       "\n",
       "    .dataframe tbody tr th {\n",
       "        vertical-align: top;\n",
       "    }\n",
       "\n",
       "    .dataframe thead th {\n",
       "        text-align: right;\n",
       "    }\n",
       "</style>\n",
       "<table border=\"1\" class=\"dataframe\">\n",
       "  <thead>\n",
       "    <tr style=\"text-align: right;\">\n",
       "      <th></th>\n",
       "      <th>data type</th>\n",
       "      <th>minimum</th>\n",
       "      <th>maximum</th>\n",
       "      <th>NaN frequency</th>\n",
       "      <th>definition</th>\n",
       "    </tr>\n",
       "  </thead>\n",
       "  <tbody>\n",
       "    <tr>\n",
       "      <th>Area_code_and_description</th>\n",
       "      <td>object</td>\n",
       "      <td>001 Far North District</td>\n",
       "      <td>Total NZ (Ward)</td>\n",
       "      <td>0.000000</td>\n",
       "      <td>unique identifier for statistical area 1</td>\n",
       "    </tr>\n",
       "    <tr>\n",
       "      <th>Census_2018_usually_resident_population_count</th>\n",
       "      <td>int64</td>\n",
       "      <td>0</td>\n",
       "      <td>4699755</td>\n",
       "      <td>0.000000</td>\n",
       "      <td>number of usual residents (as opposed to popul...</td>\n",
       "    </tr>\n",
       "    <tr>\n",
       "      <th>Census_2018_Sex_1_Male_CURP</th>\n",
       "      <td>float64</td>\n",
       "      <td>0.0</td>\n",
       "      <td>2319558.0</td>\n",
       "      <td>0.017681</td>\n",
       "      <td>number of usual male residents in 2018</td>\n",
       "    </tr>\n",
       "    <tr>\n",
       "      <th>Census_2018_Sex_2_Female_CURP</th>\n",
       "      <td>float64</td>\n",
       "      <td>0.0</td>\n",
       "      <td>2380197.0</td>\n",
       "      <td>0.017681</td>\n",
       "      <td>number of usual female residents in 2018</td>\n",
       "    </tr>\n",
       "    <tr>\n",
       "      <th>Census_2018_Sex_Total_CURP</th>\n",
       "      <td>int64</td>\n",
       "      <td>0</td>\n",
       "      <td>4699755</td>\n",
       "      <td>0.000000</td>\n",
       "      <td>total number of usual residents for which data...</td>\n",
       "    </tr>\n",
       "  </tbody>\n",
       "</table>\n",
       "</div>"
      ],
      "text/plain": [
       "                                              data type  \\\n",
       "Area_code_and_description                        object   \n",
       "Census_2018_usually_resident_population_count     int64   \n",
       "Census_2018_Sex_1_Male_CURP                     float64   \n",
       "Census_2018_Sex_2_Female_CURP                   float64   \n",
       "Census_2018_Sex_Total_CURP                        int64   \n",
       "\n",
       "                                                              minimum  \\\n",
       "Area_code_and_description                      001 Far North District   \n",
       "Census_2018_usually_resident_population_count                       0   \n",
       "Census_2018_Sex_1_Male_CURP                                       0.0   \n",
       "Census_2018_Sex_2_Female_CURP                                     0.0   \n",
       "Census_2018_Sex_Total_CURP                                          0   \n",
       "\n",
       "                                                       maximum  NaN frequency  \\\n",
       "Area_code_and_description                      Total NZ (Ward)       0.000000   \n",
       "Census_2018_usually_resident_population_count          4699755       0.000000   \n",
       "Census_2018_Sex_1_Male_CURP                          2319558.0       0.017681   \n",
       "Census_2018_Sex_2_Female_CURP                        2380197.0       0.017681   \n",
       "Census_2018_Sex_Total_CURP                             4699755       0.000000   \n",
       "\n",
       "                                                                                      definition  \n",
       "Area_code_and_description                               unique identifier for statistical area 1  \n",
       "Census_2018_usually_resident_population_count  number of usual residents (as opposed to popul...  \n",
       "Census_2018_Sex_1_Male_CURP                               number of usual male residents in 2018  \n",
       "Census_2018_Sex_2_Female_CURP                           number of usual female residents in 2018  \n",
       "Census_2018_Sex_Total_CURP                     total number of usual residents for which data...  "
      ]
     },
     "execution_count": 66,
     "metadata": {},
     "output_type": "execute_result"
    }
   ],
   "source": [
    "meta_nums.head()"
   ]
  },
  {
   "cell_type": "code",
   "execution_count": 67,
   "metadata": {},
   "outputs": [],
   "source": [
    "# Save the Metadata\n",
    "meta_nums.to_csv('../../data/metadata/2018_Census_Statistical_Area1_Metadata_Derived.csv')"
   ]
  },
  {
   "cell_type": "markdown",
   "metadata": {},
   "source": [
    "## Read in OSM data"
   ]
  },
  {
   "cell_type": "code",
   "execution_count": 7,
   "metadata": {},
   "outputs": [
    {
     "ename": "InsufficientResponseError",
     "evalue": "Nominatim returned 1 result(s) but which_result=2",
     "output_type": "error",
     "traceback": [
      "\u001b[1;31m---------------------------------------------------------------------------\u001b[0m",
      "\u001b[1;31mInsufficientResponseError\u001b[0m                 Traceback (most recent call last)",
      "Cell \u001b[1;32mIn[7], line 9\u001b[0m\n\u001b[0;32m      3\u001b[0m region_name \u001b[38;5;241m=\u001b[39m \u001b[38;5;124m\"\u001b[39m\u001b[38;5;124mNew Zealand\u001b[39m\u001b[38;5;124m\"\u001b[39m \n\u001b[0;32m      4\u001b[0m \u001b[38;5;66;03m#or 'City, Country' if you have city that meets more \u001b[39;00m\n\u001b[0;32m      5\u001b[0m \u001b[38;5;66;03m#...than one time in the world\u001b[39;00m\n\u001b[0;32m      6\u001b[0m \n\u001b[0;32m      7\u001b[0m \u001b[38;5;66;03m#sometimes you need to play with which_result parameter\u001b[39;00m\n\u001b[0;32m      8\u001b[0m \u001b[38;5;66;03m#because you can receive node point, not the polygon\u001b[39;00m\n\u001b[1;32m----> 9\u001b[0m region \u001b[38;5;241m=\u001b[39m ox\u001b[38;5;241m.\u001b[39mgeocoder\u001b[38;5;241m.\u001b[39mgeocode_to_gdf(region_name, which_result\u001b[38;5;241m=\u001b[39m\u001b[38;5;241m2\u001b[39m)\n\u001b[0;32m     11\u001b[0m region\u001b[38;5;241m.\u001b[39mplot(figsize\u001b[38;5;241m=\u001b[39m(\u001b[38;5;241m15\u001b[39m,\u001b[38;5;241m15\u001b[39m))\n\u001b[0;32m     12\u001b[0m plt\u001b[38;5;241m.\u001b[39mtitle(region_name, fontdict\u001b[38;5;241m=\u001b[39m{\u001b[38;5;124m'\u001b[39m\u001b[38;5;124mfontsize\u001b[39m\u001b[38;5;124m'\u001b[39m:\u001b[38;5;241m15\u001b[39m})\n",
      "File \u001b[1;32m~\\.conda\\envs\\oxnz\\Lib\\site-packages\\osmnx\\geocoder.py:138\u001b[0m, in \u001b[0;36mgeocode_to_gdf\u001b[1;34m(query, which_result, by_osmid, buffer_dist)\u001b[0m\n\u001b[0;32m    136\u001b[0m gdf \u001b[38;5;241m=\u001b[39m gpd\u001b[38;5;241m.\u001b[39mGeoDataFrame()\n\u001b[0;32m    137\u001b[0m \u001b[38;5;28;01mfor\u001b[39;00m q, wr \u001b[38;5;129;01min\u001b[39;00m \u001b[38;5;28mzip\u001b[39m(query, which_result):\n\u001b[1;32m--> 138\u001b[0m     gdf \u001b[38;5;241m=\u001b[39m pd\u001b[38;5;241m.\u001b[39mconcat([gdf, _geocode_query_to_gdf(q, wr, by_osmid)])\n\u001b[0;32m    140\u001b[0m \u001b[38;5;66;03m# reset GeoDataFrame index and set its CRS\u001b[39;00m\n\u001b[0;32m    141\u001b[0m gdf \u001b[38;5;241m=\u001b[39m gdf\u001b[38;5;241m.\u001b[39mreset_index(drop\u001b[38;5;241m=\u001b[39m\u001b[38;5;28;01mTrue\u001b[39;00m)\n",
      "File \u001b[1;32m~\\.conda\\envs\\oxnz\\Lib\\site-packages\\osmnx\\geocoder.py:202\u001b[0m, in \u001b[0;36m_geocode_query_to_gdf\u001b[1;34m(query, which_result, by_osmid)\u001b[0m\n\u001b[0;32m    199\u001b[0m \u001b[38;5;28;01melse\u001b[39;00m:  \u001b[38;5;66;03m# pragma: no cover\u001b[39;00m\n\u001b[0;32m    200\u001b[0m     \u001b[38;5;66;03m# else, we got fewer results than which_result, raise error\u001b[39;00m\n\u001b[0;32m    201\u001b[0m     msg \u001b[38;5;241m=\u001b[39m \u001b[38;5;124mf\u001b[39m\u001b[38;5;124m\"\u001b[39m\u001b[38;5;124mNominatim returned \u001b[39m\u001b[38;5;132;01m{\u001b[39;00m\u001b[38;5;28mlen\u001b[39m(results)\u001b[38;5;132;01m}\u001b[39;00m\u001b[38;5;124m result(s) but which_result=\u001b[39m\u001b[38;5;132;01m{\u001b[39;00mwhich_result\u001b[38;5;132;01m}\u001b[39;00m\u001b[38;5;124m\"\u001b[39m\n\u001b[1;32m--> 202\u001b[0m     \u001b[38;5;28;01mraise\u001b[39;00m InsufficientResponseError(msg)\n\u001b[0;32m    204\u001b[0m \u001b[38;5;66;03m# if we got a non (Multi)Polygon geometry type (like a point), log warning\u001b[39;00m\n\u001b[0;32m    205\u001b[0m geom_type \u001b[38;5;241m=\u001b[39m result[\u001b[38;5;124m\"\u001b[39m\u001b[38;5;124mgeojson\u001b[39m\u001b[38;5;124m\"\u001b[39m][\u001b[38;5;124m\"\u001b[39m\u001b[38;5;124mtype\u001b[39m\u001b[38;5;124m\"\u001b[39m]\n",
      "\u001b[1;31mInsufficientResponseError\u001b[0m: Nominatim returned 1 result(s) but which_result=2"
     ]
    }
   ],
   "source": [
    "# going to try to use this; will see! https://python.plainenglish.io/osmnx-the-fastest-way-to-get-data-from-openstreetmaps-731419d4dc31\n",
    "#location \n",
    "region_name = \"New Zealand\" \n",
    "#or 'City, Country' if you have city that meets more \n",
    "#...than one time in the world\n",
    "\n",
    "#sometimes you need to play with which_result parameter\n",
    "#because you can receive node point, not the polygon\n",
    "region = ox.geocoder.geocode_to_gdf(region_name, which_result=2)\n",
    "\n",
    "region.plot(figsize=(15,15))\n",
    "plt.title(region_name, fontdict={'fontsize':15})\n",
    "plt.grid()"
   ]
  },
  {
   "cell_type": "markdown",
   "metadata": {},
   "source": [
    "### Analysis\n",
    "\n",
    "Describe the methods of analysis that will directly test the hypotheses or provide results to answer the research questions.\n",
    "This section should explicitly define any spatial / statistical *models* and their *parameters*, including *grouping* criteria, *weighting* criteria, and *significance thresholds*.\n",
    "Also explain any follow-up analyses or validations.\n",
    "\n"
   ]
  },
  {
   "cell_type": "markdown",
   "metadata": {},
   "source": [
    "## Results\n",
    "\n",
    "Describe how results are to be presented.\n",
    "\n"
   ]
  },
  {
   "cell_type": "markdown",
   "metadata": {},
   "source": [
    "## Discussion\n",
    "\n",
    "Describe how the results are to be interpreted *vis a vis* each hypothesis or research question.\n",
    "\n"
   ]
  },
  {
   "cell_type": "markdown",
   "metadata": {},
   "source": [
    "## Integrity Statement\n",
    "\n",
    "Include an integrity statement - The authors of this preregistration state that they completed this preregistration to the best of their knowledge and that no other preregistration exists pertaining to the same hypotheses and research.\n",
    "If a prior registration *does* exist, explain the rationale for revising the registration here.\n",
    "\n"
   ]
  },
  {
   "cell_type": "markdown",
   "metadata": {},
   "source": [
    "# Acknowledgements\n",
    "\n",
    "- `Funding Name`: name of funding for the project\n",
    "- `Funding Title`: title of project grant\n",
    "- `Award info URI`: web address for award information\n",
    "- `Award number`: award number\n",
    "\n",
    "This report is based upon the template for Reproducible and Replicable Research in Human-Environment and Geographical Sciences, DOI:[10.17605/OSF.IO/W29MQ](https://doi.org/10.17605/OSF.IO/W29MQ)"
   ]
  },
  {
   "cell_type": "markdown",
   "metadata": {},
   "source": [
    "## References"
   ]
  }
 ],
 "metadata": {
  "colab": {
   "provenance": []
  },
  "kernelspec": {
   "display_name": "Python 3 (ipykernel)",
   "language": "python",
   "name": "python3"
  },
  "language_info": {
   "codemirror_mode": {
    "name": "ipython",
    "version": 3
   },
   "file_extension": ".py",
   "mimetype": "text/x-python",
   "name": "python",
   "nbconvert_exporter": "python",
   "pygments_lexer": "ipython3",
   "version": "3.11.7"
  }
 },
 "nbformat": 4,
 "nbformat_minor": 4
}
